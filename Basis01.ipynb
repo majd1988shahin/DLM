{
  "nbformat": 4,
  "nbformat_minor": 0,
  "metadata": {
    "colab": {
      "name": "Basis01.ipynb",
      "provenance": [],
      "collapsed_sections": []
    },
    "kernelspec": {
      "name": "python3",
      "display_name": "Python 3"
    }
  },
  "cells": [
    {
      "cell_type": "code",
      "metadata": {
        "id": "OsQ2uBJWkTTI",
        "colab_type": "code",
        "colab": {}
      },
      "source": [
        "import numpy as np\n",
        "import matplotlib.pyplot as plt"
      ],
      "execution_count": 0,
      "outputs": []
    },
    {
      "cell_type": "code",
      "metadata": {
        "id": "uBi6DROYliaQ",
        "colab_type": "code",
        "outputId": "47fa0b5f-e13d-4496-b147-423fb4a83a21",
        "colab": {
          "base_uri": "https://localhost:8080/",
          "height": 68
        }
      },
      "source": [
        "A=np.arange(1,13).reshape(3,4)\n",
        "print(A)"
      ],
      "execution_count": 0,
      "outputs": [
        {
          "output_type": "stream",
          "text": [
            "[[ 1  2  3  4]\n",
            " [ 5  6  7  8]\n",
            " [ 9 10 11 12]]\n"
          ],
          "name": "stdout"
        }
      ]
    },
    {
      "cell_type": "code",
      "metadata": {
        "id": "WrCBL5VTlonJ",
        "colab_type": "code",
        "outputId": "9909cb0f-afe6-4fb6-d559-fb1603660534",
        "colab": {
          "base_uri": "https://localhost:8080/",
          "height": 68
        }
      },
      "source": [
        "B=np.random.randn(3,4)\n",
        "print(B)"
      ],
      "execution_count": 0,
      "outputs": [
        {
          "output_type": "stream",
          "text": [
            "[[-1.55840416  0.09260259 -0.33585417 -0.395535  ]\n",
            " [ 0.0251344  -0.98001424 -1.52751433 -1.16330186]\n",
            " [ 1.82674122 -1.48380138  0.63939098  0.40048709]]\n"
          ],
          "name": "stdout"
        }
      ]
    },
    {
      "cell_type": "code",
      "metadata": {
        "id": "uHRhmAEtltyE",
        "colab_type": "code",
        "outputId": "6450f7b7-a4a3-4a96-81ae-f7e16a759a2a",
        "colab": {
          "base_uri": "https://localhost:8080/",
          "height": 68
        }
      },
      "source": [
        "C=A.dot(B.T)\n",
        "print(C)"
      ],
      "execution_count": 0,
      "outputs": [
        {
          "output_type": "stream",
          "text": [
            "[[ -3.9629015  -11.1706445    2.37925977]\n",
            " [-12.75166447 -25.75342862   7.91053143]\n",
            " [-21.54042745 -40.33621273  13.44180309]]\n"
          ],
          "name": "stdout"
        }
      ]
    },
    {
      "cell_type": "code",
      "metadata": {
        "id": "xzYJBnQclwPa",
        "colab_type": "code",
        "outputId": "e07732a5-b6b4-43c5-8bdf-fbe2fe978f79",
        "colab": {
          "base_uri": "https://localhost:8080/",
          "height": 51
        }
      },
      "source": [
        "print(C.shape)\n",
        "print(C[:,0])"
      ],
      "execution_count": 0,
      "outputs": [
        {
          "output_type": "stream",
          "text": [
            "(3, 3)\n",
            "[ -3.9629015  -12.75166447 -21.54042745]\n"
          ],
          "name": "stdout"
        }
      ]
    },
    {
      "cell_type": "code",
      "metadata": {
        "id": "ecJSmLQJl3DF",
        "colab_type": "code",
        "outputId": "f2a125ac-35aa-4418-d513-f0c68f360021",
        "colab": {
          "base_uri": "https://localhost:8080/",
          "height": 34
        }
      },
      "source": [
        "print(C.diagonal())"
      ],
      "execution_count": 0,
      "outputs": [
        {
          "output_type": "stream",
          "text": [
            "[ -3.9629015  -25.75342862  13.44180309]\n"
          ],
          "name": "stdout"
        }
      ]
    },
    {
      "cell_type": "code",
      "metadata": {
        "id": "RxRd7EFrl5rI",
        "colab_type": "code",
        "outputId": "b1600dd8-a7a8-45f8-c1c8-f25ba5fdbf62",
        "colab": {
          "base_uri": "https://localhost:8080/",
          "height": 68
        }
      },
      "source": [
        "print(np.linalg.inv(C))\n"
      ],
      "execution_count": 0,
      "outputs": [
        {
          "output_type": "stream",
          "text": [
            "[[ 1.88818310e+14 -3.77636619e+14  1.88818310e+14]\n",
            " [-7.03328021e+12  1.40665604e+13 -7.03328021e+12]\n",
            " [ 2.81474977e+14 -5.62949953e+14  2.81474977e+14]]\n"
          ],
          "name": "stdout"
        }
      ]
    },
    {
      "cell_type": "code",
      "metadata": {
        "id": "Ad32CfT6l8jM",
        "colab_type": "code",
        "outputId": "e42e65f6-c05a-48a8-a5d6-ca360cc714b7",
        "colab": {
          "base_uri": "https://localhost:8080/",
          "height": 68
        }
      },
      "source": [
        "print(A*B)"
      ],
      "execution_count": 0,
      "outputs": [
        {
          "output_type": "stream",
          "text": [
            "[[ -1.55840416   0.18520519  -1.00756251  -1.58214002]\n",
            " [  0.12567201  -5.88008544 -10.69260034  -9.30641484]\n",
            " [ 16.44067097 -14.83801376   7.03330073   4.80584514]]\n"
          ],
          "name": "stdout"
        }
      ]
    },
    {
      "cell_type": "code",
      "metadata": {
        "id": "x8RIDnx4mC-1",
        "colab_type": "code",
        "outputId": "ce884cca-e8c6-4079-f3fa-86d6c70dc9fc",
        "colab": {
          "base_uri": "https://localhost:8080/",
          "height": 34
        }
      },
      "source": [
        "print (B.mean())\n"
      ],
      "execution_count": 0,
      "outputs": [
        {
          "output_type": "stream",
          "text": [
            "-0.3716724048210942\n"
          ],
          "name": "stdout"
        }
      ]
    },
    {
      "cell_type": "code",
      "metadata": {
        "id": "_I_jxPWAmE_9",
        "colab_type": "code",
        "outputId": "090f1c8c-93d0-4e0b-88c3-5332ca54a5e6",
        "colab": {
          "base_uri": "https://localhost:8080/",
          "height": 85
        }
      },
      "source": [
        "print(B.sum())\n",
        "###########Erstellen Sie eine Matrix D, die aus der 3, 1, 2 spalte\n",
        "D=A[:,(3,1,2)]\n",
        "print(D)"
      ],
      "execution_count": 0,
      "outputs": [
        {
          "output_type": "stream",
          "text": [
            "-4.4600688578531305\n",
            "[[ 4  2  3]\n",
            " [ 8  6  7]\n",
            " [12 10 11]]\n"
          ],
          "name": "stdout"
        }
      ]
    },
    {
      "cell_type": "code",
      "metadata": {
        "id": "OfBAlNkumKTN",
        "colab_type": "code",
        "outputId": "31695b7e-ceb1-4431-81b3-327a885f0a36",
        "colab": {
          "base_uri": "https://localhost:8080/",
          "height": 102
        }
      },
      "source": [
        "print(B.dot(A.T).shape)\n",
        "print(A.dot(B.T))\n",
        "print(A.dot(B.T).shape)"
      ],
      "execution_count": 0,
      "outputs": [
        {
          "output_type": "stream",
          "text": [
            "(3, 3)\n",
            "[[ -3.9629015  -11.1706445    2.37925977]\n",
            " [-12.75166447 -25.75342862   7.91053143]\n",
            " [-21.54042745 -40.33621273  13.44180309]]\n",
            "(3, 3)\n"
          ],
          "name": "stdout"
        }
      ]
    },
    {
      "cell_type": "code",
      "metadata": {
        "id": "iP_lFNu4mNG_",
        "colab_type": "code",
        "outputId": "304a2efd-c56c-405d-da5e-c2a060bf4855",
        "colab": {
          "base_uri": "https://localhost:8080/",
          "height": 68
        }
      },
      "source": [
        "B=np.sqrt(A)\n",
        "print(B)"
      ],
      "execution_count": 0,
      "outputs": [
        {
          "output_type": "stream",
          "text": [
            "[[1.         1.41421356 1.73205081 2.        ]\n",
            " [2.23606798 2.44948974 2.64575131 2.82842712]\n",
            " [3.         3.16227766 3.31662479 3.46410162]]\n"
          ],
          "name": "stdout"
        }
      ]
    },
    {
      "cell_type": "code",
      "metadata": {
        "id": "P4-KhDpZmPm5",
        "colab_type": "code",
        "outputId": "2bbaf738-324e-41f8-9577-fd87c23b71e5",
        "colab": {
          "base_uri": "https://localhost:8080/",
          "height": 68
        }
      },
      "source": [
        "B=B*B\n",
        "print(B==A)"
      ],
      "execution_count": 0,
      "outputs": [
        {
          "output_type": "stream",
          "text": [
            "[[ True False False  True]\n",
            " [False False False False]\n",
            " [ True False  True False]]\n"
          ],
          "name": "stdout"
        }
      ]
    },
    {
      "cell_type": "code",
      "metadata": {
        "id": "vcnnm8uxmUAV",
        "colab_type": "code",
        "outputId": "0d8bd18a-bff0-436c-e38b-a418614510d5",
        "colab": {
          "base_uri": "https://localhost:8080/",
          "height": 34
        }
      },
      "source": [
        "print(B.min())\n",
        "B=np.random.randn(3,4)"
      ],
      "execution_count": 0,
      "outputs": [
        {
          "output_type": "stream",
          "text": [
            "1.0\n"
          ],
          "name": "stdout"
        }
      ]
    },
    {
      "cell_type": "code",
      "metadata": {
        "id": "KTxwLYa0mXoI",
        "colab_type": "code",
        "outputId": "49a04ae0-4303-40e2-8510-eb6e1881ed4b",
        "colab": {
          "base_uri": "https://localhost:8080/",
          "height": 85
        }
      },
      "source": [
        "ind = np.unravel_index(np.argmax(np.abs(B), axis=None), B.shape)\n",
        "print(B)\n",
        "print(ind)"
      ],
      "execution_count": 0,
      "outputs": [
        {
          "output_type": "stream",
          "text": [
            "[[ 2.1765056  -1.21359333  0.82602474  2.10827804]\n",
            " [ 1.090511    0.75391805  0.67214356  0.21698322]\n",
            " [-0.53103335  1.21224656  0.39403811 -0.34879138]]\n",
            "(0, 0)\n"
          ],
          "name": "stdout"
        }
      ]
    },
    {
      "cell_type": "code",
      "metadata": {
        "id": "euvyqXrrmbL3",
        "colab_type": "code",
        "outputId": "1fed9567-baed-4018-d4b4-7c6c7362a601",
        "colab": {
          "base_uri": "https://localhost:8080/",
          "height": 34
        }
      },
      "source": [
        "print((A.flatten()[A.flatten()%2==1])[::-1])"
      ],
      "execution_count": 0,
      "outputs": [
        {
          "output_type": "stream",
          "text": [
            "[11  9  7  5  3  1]\n"
          ],
          "name": "stdout"
        }
      ]
    },
    {
      "cell_type": "code",
      "metadata": {
        "id": "swD_oOPTmjXK",
        "colab_type": "code",
        "outputId": "0bb1c3c2-af84-4f28-8fb4-8d2e7db94f6b",
        "colab": {
          "base_uri": "https://localhost:8080/",
          "height": 85
        }
      },
      "source": [
        "A=np.vstack((A,[13,14,15,16]))\n",
        "print(A)"
      ],
      "execution_count": 0,
      "outputs": [
        {
          "output_type": "stream",
          "text": [
            "[[ 1  2  3  4]\n",
            " [ 5  6  7  8]\n",
            " [ 9 10 11 12]\n",
            " [13 14 15 16]]\n"
          ],
          "name": "stdout"
        }
      ]
    },
    {
      "cell_type": "code",
      "metadata": {
        "id": "l8ToIBf-mlwY",
        "colab_type": "code",
        "outputId": "3023eb9e-7f2f-41ef-b038-e24f0a7e218b",
        "colab": {
          "base_uri": "https://localhost:8080/",
          "height": 85
        }
      },
      "source": [
        "v=b=np.ones((4,1))\n",
        "print(A*v+b)"
      ],
      "execution_count": 0,
      "outputs": [
        {
          "output_type": "stream",
          "text": [
            "[[ 2.  3.  4.  5.]\n",
            " [ 6.  7.  8.  9.]\n",
            " [10. 11. 12. 13.]\n",
            " [14. 15. 16. 17.]]\n"
          ],
          "name": "stdout"
        }
      ]
    },
    {
      "cell_type": "code",
      "metadata": {
        "id": "Iq-wuj5ZmomG",
        "colab_type": "code",
        "outputId": "d4afa3a5-24be-4733-8380-c86372ee4c7c",
        "colab": {
          "base_uri": "https://localhost:8080/",
          "height": 51
        }
      },
      "source": [
        "B=np.random.rand(4,4)\n",
        "print(np.linalg.norm(A-B))\n",
        "print(np.linspace(0,1,5))"
      ],
      "execution_count": 0,
      "outputs": [
        {
          "output_type": "stream",
          "text": [
            "36.82165992086287\n",
            "[0.   0.25 0.5  0.75 1.  ]\n"
          ],
          "name": "stdout"
        }
      ]
    },
    {
      "cell_type": "code",
      "metadata": {
        "id": "5B_8bE7tms_d",
        "colab_type": "code",
        "colab": {}
      },
      "source": [
        "def myGrid(a,b,n):\n",
        "    x=np.linspace(a,b,n)\n",
        "    xx,yy=np.meshgrid(x,x)\n",
        "    return np.vstack((xx.flatten(),yy.flatten())).T"
      ],
      "execution_count": 0,
      "outputs": []
    },
    {
      "cell_type": "code",
      "metadata": {
        "id": "FTwEDMnzmyEc",
        "colab_type": "code",
        "outputId": "73d8350d-992c-4b95-b91f-b01aa191c7c1",
        "colab": {
          "base_uri": "https://localhost:8080/",
          "height": 418
        }
      },
      "source": [
        "xy=myGrid(0,1,5)\n",
        "plt.scatter(xy[:,0],xy[:,1])   \n",
        "xy=myGrid(-1,1,3)\n",
        "print(xy)"
      ],
      "execution_count": 0,
      "outputs": [
        {
          "output_type": "stream",
          "text": [
            "[[-1. -1.]\n",
            " [ 0. -1.]\n",
            " [ 1. -1.]\n",
            " [-1.  0.]\n",
            " [ 0.  0.]\n",
            " [ 1.  0.]\n",
            " [-1.  1.]\n",
            " [ 0.  1.]\n",
            " [ 1.  1.]]\n"
          ],
          "name": "stdout"
        },
        {
          "output_type": "display_data",
          "data": {
            "image/png": "[encoded data removed]",
            "text/plain": [
              "<Figure size 432x288 with 1 Axes>"
            ]
          },
          "metadata": {
            "tags": []
          }
        }
      ]
    },
    {
      "cell_type": "code",
      "metadata": {
        "id": "GJynBdyPm23D",
        "colab_type": "code",
        "outputId": "a658ae58-032b-47c5-839c-19462cdf3d4a",
        "colab": {
          "base_uri": "https://localhost:8080/",
          "height": 51
        }
      },
      "source": [
        "print(type(xy))\n",
        "print (xy.dtype)"
      ],
      "execution_count": 0,
      "outputs": [
        {
          "output_type": "stream",
          "text": [
            "<class 'numpy.ndarray'>\n",
            "float64\n"
          ],
          "name": "stdout"
        }
      ]
    },
    {
      "cell_type": "markdown",
      "metadata": {
        "id": "xSv1vjzYXzLc",
        "colab_type": "text"
      },
      "source": [
        ""
      ]
    },
    {
      "cell_type": "code",
      "metadata": {
        "id": "fMkk5P-4m-sL",
        "colab_type": "code",
        "outputId": "d6c9ae7b-27e1-4e65-bc9c-320b1dbd192e",
        "colab": {
          "base_uri": "https://localhost:8080/",
          "height": 34
        }
      },
      "source": [
        "from timeit import default_timer as timer\n",
        "start=timer()\n",
        "myGrid(0,1,1000)\n",
        "end=timer()\n",
        "print(end-start)"
      ],
      "execution_count": 0,
      "outputs": [
        {
          "output_type": "stream",
          "text": [
            "0.016656766999972206\n"
          ],
          "name": "stdout"
        }
      ]
    },
    {
      "cell_type": "code",
      "metadata": {
        "id": "LtQzyWhsnECK",
        "colab_type": "code",
        "colab": {}
      },
      "source": [
        "from matplotlib.image import imread"
      ],
      "execution_count": 0,
      "outputs": []
    },
    {
      "cell_type": "code",
      "metadata": {
        "id": "4ArkCqsMnvtP",
        "colab_type": "code",
        "colab": {}
      },
      "source": [
        "n=\"https://7omcu3a78zp40klds2w28klr-wpengine.netdna-ssl.com/wp-content/uploads/2019/03/GettyImages-184621282.jpg\"\n"
      ],
      "execution_count": 0,
      "outputs": []
    },
    {
      "cell_type": "code",
      "metadata": {
        "id": "emJ1zfDloL3I",
        "colab_type": "code",
        "colab": {}
      },
      "source": [
        "im=imread(n)\n",
        "im.shape"
      ],
      "execution_count": 0,
      "outputs": []
    },
    {
      "cell_type": "code",
      "metadata": {
        "id": "c2cqgRj0oOXi",
        "colab_type": "code",
        "outputId": "9d523c46-6b8c-41ce-aae5-df4b8f90dc4b",
        "colab": {
          "base_uri": "https://localhost:8080/",
          "height": 51
        }
      },
      "source": [
        "import os , sys\n",
        "from google.colab import drive\n",
        "drive.mount('/content/drive') #get access to drive\n",
        "\n",
        "os.chdir(\"/content/drive/My Drive/PYP\") # change working directory\n",
        "print(os.getcwd())# read current work direktory\n",
        "\n",
        "\n",
        "# we can use !ls ///// !cd !cp ......"
      ],
      "execution_count": 0,
      "outputs": [
        {
          "output_type": "stream",
          "text": [
            "Drive already mounted at /content/drive; to attempt to forcibly remount, call drive.mount(\"/content/drive\", force_remount=True).\n",
            "/content/drive/My Drive/PYP\n"
          ],
          "name": "stdout"
        }
      ]
    },
    {
      "cell_type": "code",
      "metadata": {
        "id": "L_9IZtCCsjAV",
        "colab_type": "code",
        "outputId": "145c3009-1f22-42b6-f754-455f9ab56ef5",
        "colab": {
          "base_uri": "https://localhost:8080/",
          "height": 51
        }
      },
      "source": [
        "os.mkdir(\"hi\") # creat folder\n",
        "!ls\n",
        "with open('foo.txt', 'w') as f: # read and write files\n",
        "    f.write('Hello Google Drive!')\n",
        "f= open('foo.txt').read()\n",
        "print(f)\n",
        "import shutil## move everything!\n",
        "shutil.move('/content/drive/My Drive/foo.txt','/content/drive/My Drive/PYP/foo.txt')"
      ],
      "execution_count": 0,
      "outputs": [
        {
          "output_type": "stream",
          "text": [
            "hi\n",
            "Hello Google Drive!\n"
          ],
          "name": "stdout"
        }
      ]
    },
    {
      "cell_type": "code",
      "metadata": {
        "id": "tWPOHfMqxF0Y",
        "colab_type": "code",
        "outputId": "42319def-c60e-474d-8096-0241d5dba88c",
        "colab": {
          "base_uri": "https://localhost:8080/",
          "height": 286
        }
      },
      "source": [
        "im=plt.imread(\"imgs/b.jpg\")\n",
        "im.shape\n",
        "plt.imshow(im)"
      ],
      "execution_count": 0,
      "outputs": [
        {
          "output_type": "execute_result",
          "data": {
            "text/plain": [
              "<matplotlib.image.AxesImage at 0x7f305d25aa20>"
            ]
          },
          "metadata": {
            "tags": []
          },
          "execution_count": 58
        },
        {
          "output_type": "display_data",
          "data": {
            "image/png": "[encoded data removed]",
            "text/plain": [
              "<Figure size 432x288 with 1 Axes>"
            ]
          },
          "metadata": {
            "tags": []
          }
        }
      ]
    },
    {
      "cell_type": "code",
      "metadata": {
        "id": "IpqDEFVf2val",
        "colab_type": "code",
        "outputId": "3b270a4e-84db-40bc-9c86-d28a4411f66a",
        "colab": {
          "base_uri": "https://localhost:8080/",
          "height": 513
        }
      },
      "source": [
        "R,G,B=im[:,:,0],im[:,:,1],im[:,:,2]\n",
        "import matplotlib.colors as colors\n",
        "HSV=colors.rgb_to_hsv(im)\n",
        "H=HSV[:,:,0]\n",
        "\n",
        "\n",
        "plt.close()\n",
        "plt.figure(1)\n",
        "Bhist=plt.hist(B.flatten(),1000)\n",
        "plt.figure(2)\n",
        "Hhist=plt.hist(H.flatten(),1000)\n"
      ],
      "execution_count": 0,
      "outputs": [
        {
          "output_type": "display_data",
          "data": {
            "image/png": "[encoded data removed]",
            "text/plain": [
              "<Figure size 432x288 with 1 Axes>"
            ]
          },
          "metadata": {
            "tags": []
          }
        },
        {
          "output_type": "display_data",
          "data": {
            "image/png": "[encoded data removed]",
            "text/plain": [
              "<Figure size 432x288 with 1 Axes>"
            ]
          },
          "metadata": {
            "tags": []
          }
        }
      ]
    },
    {
      "cell_type": "code",
      "metadata": {
        "id": "RBnMcZml3HXq",
        "colab_type": "code",
        "colab": {}
      },
      "source": [
        ""
      ],
      "execution_count": 0,
      "outputs": []
    }
  ]
}