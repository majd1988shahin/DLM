{
  "nbformat": 4,
  "nbformat_minor": 0,
  "metadata": {
    "colab": {
      "name": "Conv2D.ipynb",
      "provenance": []
    },
    "kernelspec": {
      "name": "python3",
      "display_name": "Python 3"
    }
  },
  "cells": [
    {
      "cell_type": "code",
      "metadata": {
        "id": "wO3gye4c42Xc",
        "colab_type": "code",
        "colab": {}
      },
      "source": [
        "from keras.datasets import mnist\n",
        "from matplotlib import pyplot as plt\n",
        "import numpy as np\n",
        "from keras.models import Model\n",
        "\n",
        "from keras.layers import Conv2D, MaxPooling2D ,MaxPooling1D ,Reshape\n",
        "from keras.layers import Activation, Dropout, Flatten, Dense, Input"
      ],
      "execution_count": 0,
      "outputs": []
    },
    {
      "cell_type": "code",
      "metadata": {
        "id": "j0rGhuvV7_Bn",
        "colab_type": "code",
        "colab": {}
      },
      "source": [
        "(x_train, y_train), (x_test, y_test) =mnist.load_data()\n",
        "average_image = np.reshape(np.array([x_train[:,x,y].mean() \n",
        "    for x in range(0,28) for y in range(0,28)]),(28,28))\n",
        "\n",
        "from keras.utils import to_categorical\n",
        "\n",
        "y_train_cat=to_categorical(y_train)\n",
        "y_test_cat=to_categorical(y_test)"
      ],
      "execution_count": 0,
      "outputs": []
    },
    {
      "cell_type": "code",
      "metadata": {
        "id": "aDfN06gt8Yaf",
        "colab_type": "code",
        "colab": {
          "base_uri": "https://localhost:8080/",
          "height": 34
        },
        "outputId": "9a72d0bc-4cb4-4cd8-a98c-454cfa7dc9e2"
      },
      "source": [
        "x_train.shape"
      ],
      "execution_count": 7,
      "outputs": [
        {
          "output_type": "execute_result",
          "data": {
            "text/plain": [
              "(60000, 28, 28)"
            ]
          },
          "metadata": {
            "tags": []
          },
          "execution_count": 7
        }
      ]
    },
    {
      "cell_type": "code",
      "metadata": {
        "id": "MCeG5sv99Svr",
        "colab_type": "code",
        "colab": {}
      },
      "source": [
        "input1=Input(shape=(28,28))\n",
        "x=Reshape((28,28,1))(input1)\n",
        "x=Conv2D(32, (2, 2),activation=\"relu\")(x)\n",
        "\n",
        "x=Flatten()(x)\n",
        "#x=MaxPooling1D(10)(x)\n",
        "outputs=Dense(10,activation=\"softmax\",name=\"output\")(x)\n",
        "model=Model(inputs=input1,outputs=outputs)\n",
        "model.compile(optimizer='adadelta',\n",
        "              loss='categorical_crossentropy',\n",
        "              metrics=['accuracy'])\n"
      ],
      "execution_count": 0,
      "outputs": []
    },
    {
      "cell_type": "code",
      "metadata": {
        "id": "8cYAFTCQ_rJL",
        "colab_type": "code",
        "colab": {
          "base_uri": "https://localhost:8080/",
          "height": 221
        },
        "outputId": "e70f7854-4a30-453e-b992-43b6bff65ada"
      },
      "source": [
        "model.fit(x_train,y_train_cat,validation_data=(x_test,y_test_cat),epochs=5)"
      ],
      "execution_count": 27,
      "outputs": [
        {
          "output_type": "stream",
          "text": [
            "Train on 60000 samples, validate on 10000 samples\n",
            "Epoch 1/5\n",
            "60000/60000 [==============================] - 31s 512us/step - loss: 4.6191 - acc: 0.6919 - val_loss: 0.1864 - val_acc: 0.9498\n",
            "Epoch 2/5\n",
            "60000/60000 [==============================] - 31s 510us/step - loss: 0.1212 - acc: 0.9659 - val_loss: 0.0932 - val_acc: 0.9734\n",
            "Epoch 3/5\n",
            "60000/60000 [==============================] - 31s 514us/step - loss: 0.0699 - acc: 0.9797 - val_loss: 0.0857 - val_acc: 0.9744\n",
            "Epoch 4/5\n",
            "60000/60000 [==============================] - 31s 511us/step - loss: 0.0530 - acc: 0.9851 - val_loss: 0.0858 - val_acc: 0.9772\n",
            "Epoch 5/5\n",
            "60000/60000 [==============================] - 31s 514us/step - loss: 0.0425 - acc: 0.9881 - val_loss: 0.0916 - val_acc: 0.9759\n"
          ],
          "name": "stdout"
        },
        {
          "output_type": "execute_result",
          "data": {
            "text/plain": [
              "<keras.callbacks.History at 0x7efee47affd0>"
            ]
          },
          "metadata": {
            "tags": []
          },
          "execution_count": 27
        }
      ]
    },
    {
      "cell_type": "code",
      "metadata": {
        "id": "IGyHfV7VBo2_",
        "colab_type": "code",
        "colab": {}
      },
      "source": [
        ""
      ],
      "execution_count": 0,
      "outputs": []
    }
  ]
}