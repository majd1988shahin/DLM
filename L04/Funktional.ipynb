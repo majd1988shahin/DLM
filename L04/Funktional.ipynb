{
  "nbformat": 4,
  "nbformat_minor": 0,
  "metadata": {
    "colab": {
      "name": "Untitled0.ipynb",
      "provenance": [],
      "collapsed_sections": [],
      "include_colab_link": true
    },
    "kernelspec": {
      "name": "python3",
      "display_name": "Python 3"
    },
    "accelerator": "GPU"
  },
  "cells": [
    {
      "cell_type": "markdown",
      "metadata": {
        "id": "view-in-github",
        "colab_type": "text"
      },
      "source": [
        "<a href=\"https://colab.research.google.com/github/majd1988shahin/DLM/blob/master/L04/Funktional.ipynb\" target=\"_parent\"><img src=\"https://colab.research.google.com/assets/colab-badge.svg\" alt=\"Open In Colab\"/></a>"
      ]
    },
    {
      "cell_type": "code",
      "metadata": {
        "id": "KXAHJ3WtrsTt",
        "colab_type": "code",
        "colab": {}
      },
      "source": [
        "from keras.datasets import mnist\n",
        "from matplotlib import pyplot as plt\n",
        "import numpy as np\n",
        "\n"
      ],
      "execution_count": 0,
      "outputs": []
    },
    {
      "cell_type": "code",
      "metadata": {
        "id": "UyC7E1Wtsp5I",
        "colab_type": "code",
        "outputId": "1f08c8e6-af8c-474a-fff4-4c1132af6b76",
        "colab": {
          "base_uri": "https://localhost:8080/",
          "height": 136
        }
      },
      "source": [
        "(x_train, y_train), (x_test, y_test) =mnist.load_data()\n",
        "print(x_train.shape)\n",
        "print(y_train.shape)\n",
        "print(x_test.shape)\n",
        "print(y_test.shape)\n",
        "y_test"
      ],
      "execution_count": 3,
      "outputs": [
        {
          "output_type": "stream",
          "text": [
            "Downloading data from https://s3.amazonaws.com/img-datasets/mnist.npz\n",
            "11493376/11490434 [==============================] - 0s 0us/step\n",
            "(60000, 28, 28)\n",
            "(60000,)\n",
            "(10000, 28, 28)\n",
            "(10000,)\n"
          ],
          "name": "stdout"
        },
        {
          "output_type": "execute_result",
          "data": {
            "text/plain": [
              "array([7, 2, 1, ..., 4, 5, 6], dtype=uint8)"
            ]
          },
          "metadata": {
            "tags": []
          },
          "execution_count": 3
        }
      ]
    },
    {
      "cell_type": "code",
      "metadata": {
        "id": "OYq7Wag4lVXP",
        "colab_type": "code",
        "colab": {}
      },
      "source": [
        "flat_input_train = np.reshape(x_train,(len(x_train),-1))\n",
        "print(flat_input_train.shape)\n",
        "flat_input_test=np.reshape(x_test,(len(x_test),-1))\n",
        "\n",
        "average_image = np.reshape(np.array([x_train[:,x,y].mean() \n",
        "    for x in range(0,28) for y in range(0,28)]),(28,28))\n",
        "\n",
        "for i in range(0,10):\n",
        "    \n",
        "    img = x_train[np.where(y_train==i)[0][0] ,:,:]#erses Bilde von Klasse i ist \n",
        "    img_average = img -average_image\n",
        "        \n",
        "    # get some image\n",
        "    plt.figure(i)\n",
        "    plt.imshow(img_average,cmap=\"gray\")\n",
        "\n",
        "    plt.figure(i+100)\n",
        "    plt.hist(img_average.flatten())\n",
        "    plt.figure(i+200) \n",
        "    plt.hist(img.flatten())\n",
        "\n",
        "flat_input_train_minus_averaged=flat_input_train-img_average.flatten()\n",
        "flat_input_test_minus_averaged=flat_input_test-img_average.flatten()"
      ],
      "execution_count": 0,
      "outputs": []
    },
    {
      "cell_type": "code",
      "metadata": {
        "id": "Jr_lDxYbl_IK",
        "colab_type": "code",
        "colab": {}
      },
      "source": [
        "from keras.utils import to_categorical\n",
        "\n",
        "y_train_cat=to_categorical(y_train)\n",
        "y_test_cat=to_categorical(y_test)"
      ],
      "execution_count": 0,
      "outputs": []
    },
    {
      "cell_type": "code",
      "metadata": {
        "id": "Ex25oXxB4DgA",
        "colab_type": "code",
        "colab": {
          "base_uri": "https://localhost:8080/",
          "height": 282
        },
        "outputId": "81da0758-be68-4d52-a61a-63c933c6cad7"
      },
      "source": [
        "plt.imshow(x_test[18,:,:])"
      ],
      "execution_count": 6,
      "outputs": [
        {
          "output_type": "execute_result",
          "data": {
            "text/plain": [
              "<matplotlib.image.AxesImage at 0x7fdfdd99b470>"
            ]
          },
          "metadata": {
            "tags": []
          },
          "execution_count": 6
        },
        {
          "output_type": "display_data",
          "data": {
            "image/png": "[encoded data removed]",
            "text/plain": [
              "<Figure size 432x288 with 1 Axes>"
            ]
          },
          "metadata": {
            "tags": []
          }
        }
      ]
    },
    {
      "cell_type": "code",
      "metadata": {
        "id": "EtX4VkEij_83",
        "colab_type": "code",
        "colab": {}
      },
      "source": [
        "from keras.layers import Input, Dense\n",
        "from keras.models import Model\n",
        "from keras.layers import Input, Embedding, LSTM, Dense\n",
        "\n",
        "def create_model():\n",
        "    inputs = Input(shape=(flat_input_train.shape[1],))\n",
        "    #inputs = Input((784,))\n",
        "# a layer instance is callable on a tensor, and returns a tensor\n",
        "\n",
        "    x = Dense(32, activation='relu')(inputs)\n",
        "   # inputs=Input(shape=(32,))\n",
        "    x = Dense(64, activation='relu')(x)\n",
        "    \n",
        "\n",
        "   # x = Dense(4, activation='hard_sigmoid')(x)\n",
        "   # x = Dense(10, activation='hard_sigmoid')(x)\n",
        "\n",
        "    predictions = Dense(10, activation='softmax')(x)\n",
        "\n",
        "# This creates a model that includes\n",
        "# the Input layer and three Dense layers\n",
        "    model = Model(inputs=inputs, outputs=predictions)\n",
        "    model.compile(optimizer='rmsprop',\n",
        "              loss='categorical_crossentropy',\n",
        "              metrics=['accuracy'])\n",
        "    #model.add(Dense(32, input_dim=flat_input_train.shape[1]))\n",
        "    \n",
        "    #model.add(Dense(64,activation=\"relu\"))\n",
        "    \n",
        "    # Final layer - choose the amount of classes\n",
        "    #model.add(Dense(10,activation=\"softmax\"))\n",
        "    return model\n",
        "\n"
      ],
      "execution_count": 0,
      "outputs": []
    },
    {
      "cell_type": "code",
      "metadata": {
        "id": "gdNrh2rS-Cro",
        "colab_type": "code",
        "colab": {}
      },
      "source": [
        "optimizer = \"adadelta\"\n",
        "np.random\n",
        "   # print(\"optimizers_to_test :\" ,optimizer)\n",
        "model = create_model()\n",
        "    \n",
        "model.compile(optimizer=optimizer,\n",
        "                  loss='categorical_crossentropy',\n",
        "                  metrics=['accuracy'])\n",
        "    \n",
        "hist = model.fit(flat_input_train,y_train_cat,validation_data=\\\n",
        "              (flat_input_test,y_test_cat),epochs=1)\n",
        "    \n",
        "plt.figure(999)\n",
        "plt.plot(hist.history[\"loss\"])\n",
        "plt.title(\"Training Loss\")\n",
        "   \n",
        "plt.figure(998)\n",
        "plt.plot(hist.history[\"val_loss\"])\n",
        "plt.title(\"Validation Loss\")\n",
        "    \n",
        "plt.figure(888)\n",
        "plt.plot(hist.history[\"acc\"])\n",
        "plt.title(\"Trainings Accuracy\")\n",
        "    \n",
        "plt.figure(887)\n",
        "plt.plot(hist.history[\"val_acc\"])\n",
        "plt.title(\"Validation Accuracy\")\n",
        "y=model.predict(flat_input_test)\n",
        "print(model.summary())"
      ],
      "execution_count": 0,
      "outputs": []
    },
    {
      "cell_type": "code",
      "metadata": {
        "id": "wwJAjZ7f_a5w",
        "colab_type": "code",
        "colab": {}
      },
      "source": [
        "model.summary()"
      ],
      "execution_count": 0,
      "outputs": []
    },
    {
      "cell_type": "markdown",
      "metadata": {
        "id": "ThUN3qnT2UDO",
        "colab_type": "text"
      },
      "source": [
        "InputLayer ist bei sequential nicht stattgefunden !"
      ]
    },
    {
      "cell_type": "code",
      "metadata": {
        "id": "1zxNpRhi_SLr",
        "colab_type": "code",
        "colab": {}
      },
      "source": [
        "i=737\n",
        "\n",
        "x1=[list(y[i,:]).index(max(list(y[i,:]))) for i in range(0,10000) ]\n",
        "print(*zip(y_test,x1))\n",
        "print(y_test[i],y[i])\n",
        "print(sum(x1==y_test))\n"
      ],
      "execution_count": 0,
      "outputs": []
    },
    {
      "cell_type": "markdown",
      "metadata": {
        "id": "cnh0km0zRIX3",
        "colab_type": "text"
      },
      "source": [
        "# Merge Layer"
      ]
    },
    {
      "cell_type": "code",
      "metadata": {
        "id": "0xmFb51rRSm_",
        "colab_type": "code",
        "colab": {}
      },
      "source": [
        "input1= Input(shape=(16,))\n",
        "x=Dense(8,activation=\"relu\")(input1)\n",
        "\n",
        "from keras.layers import Concatenate\n",
        "concated=Concatenate()([x,input1])\n",
        "out =Dense(1,activation=\"linear\")(concated)\n",
        "model2=Model(inputs=input1, outputs=out)\n",
        "model2.compile(\"adam\",\"mean_squared_error\", metrics=['accuracy'])"
      ],
      "execution_count": 0,
      "outputs": []
    },
    {
      "cell_type": "code",
      "metadata": {
        "id": "r-goEwLVSiA8",
        "colab_type": "code",
        "colab": {}
      },
      "source": [
        "np.random.seed(15)\n",
        "X=np.random.randint(0,100,size=(100,16))\n",
        "Y=[np.mean(X[i,:]) for i in range(0,100)]\n",
        "model2.fit(X,Y,epochs=100)\n"
      ],
      "execution_count": 0,
      "outputs": []
    },
    {
      "cell_type": "code",
      "metadata": {
        "id": "mMLZz2lOS9zf",
        "colab_type": "code",
        "colab": {
          "base_uri": "https://localhost:8080/",
          "height": 34
        },
        "outputId": "0e07b60e-3f0e-46b3-fa78-57e93e4ee2a7"
      },
      "source": [
        "np.mean(abs(model2.predict(X)-Y))"
      ],
      "execution_count": 367,
      "outputs": [
        {
          "output_type": "execute_result",
          "data": {
            "text/plain": [
              "7.33534662399292"
            ]
          },
          "metadata": {
            "tags": []
          },
          "execution_count": 367
        }
      ]
    },
    {
      "cell_type": "code",
      "metadata": {
        "id": "mwbK4HvTTO4U",
        "colab_type": "code",
        "colab": {}
      },
      "source": [
        ""
      ],
      "execution_count": 0,
      "outputs": []
    },
    {
      "cell_type": "markdown",
      "metadata": {
        "id": "bun5V7XLzS7v",
        "colab_type": "text"
      },
      "source": [
        "# Aufgabe4"
      ]
    },
    {
      "cell_type": "code",
      "metadata": {
        "id": "IWZduMODzXFp",
        "colab_type": "code",
        "colab": {
          "base_uri": "https://localhost:8080/",
          "height": 425
        },
        "outputId": "1d8caec0-80dd-405d-9bab-193c897315d1"
      },
      "source": [
        "from keras.layers import Concatenate\n",
        "\n",
        "inputs = Input(name=\"inputs\",shape=(flat_input_train.shape[1],))\n",
        "x1=Dense(64,activation=\"relu\",name=\"x1\")(inputs)\n",
        "x2=Dense(64,activation=\"relu\",name=\"x2\")(x1)\n",
        "concatenate1=Concatenate(name=\"concatenate1\")([x1,x2])\n",
        "x3=Dense(64,activation=\"relu\",name=\"x3\")(concatenate1)\n",
        "concatenate2=Concatenate(name=\"concatenate2\")([x3,x1])\n",
        "outputs=Dense(10,activation=\"softmax\",name=\"output\")(concatenate2)\n",
        "\n",
        "model3=Model(inputs=inputs,outputs=outputs)\n",
        "model3.summary()"
      ],
      "execution_count": 34,
      "outputs": [
        {
          "output_type": "stream",
          "text": [
            "Model: \"model_10\"\n",
            "__________________________________________________________________________________________________\n",
            "Layer (type)                    Output Shape         Param #     Connected to                     \n",
            "==================================================================================================\n",
            "inputs (InputLayer)             (None, 784)          0                                            \n",
            "__________________________________________________________________________________________________\n",
            "x1 (Dense)                      (None, 64)           50240       inputs[0][0]                     \n",
            "__________________________________________________________________________________________________\n",
            "x2 (Dense)                      (None, 64)           4160        x1[0][0]                         \n",
            "__________________________________________________________________________________________________\n",
            "concatenate1 (Concatenate)      (None, 128)          0           x1[0][0]                         \n",
            "                                                                 x2[0][0]                         \n",
            "__________________________________________________________________________________________________\n",
            "x3 (Dense)                      (None, 64)           8256        concatenate1[0][0]               \n",
            "__________________________________________________________________________________________________\n",
            "concatenate2 (Concatenate)      (None, 128)          0           x3[0][0]                         \n",
            "                                                                 x1[0][0]                         \n",
            "__________________________________________________________________________________________________\n",
            "output (Dense)                  (None, 10)           1290        concatenate2[0][0]               \n",
            "==================================================================================================\n",
            "Total params: 63,946\n",
            "Trainable params: 63,946\n",
            "Non-trainable params: 0\n",
            "__________________________________________________________________________________________________\n"
          ],
          "name": "stdout"
        }
      ]
    },
    {
      "cell_type": "code",
      "metadata": {
        "id": "8Q4_wHDU0cP3",
        "colab_type": "code",
        "colab": {}
      },
      "source": [
        "model3.compile(\"adamax\",loss='categorical_crossentropy',\n",
        "                  metrics=['accuracy'])"
      ],
      "execution_count": 0,
      "outputs": []
    },
    {
      "cell_type": "code",
      "metadata": {
        "id": "xri5Q6vf28Gx",
        "colab_type": "code",
        "colab": {
          "base_uri": "https://localhost:8080/",
          "height": 561
        },
        "outputId": "f037593e-d244-4dc0-87eb-0dfe4b55ab11"
      },
      "source": [
        "np.random.seed(2)\n",
        "model3.fit(flat_input_train,y_train_cat,\n",
        "           validation_data=(flat_input_test,y_test_cat),epochs=15)"
      ],
      "execution_count": 39,
      "outputs": [
        {
          "output_type": "stream",
          "text": [
            "Train on 60000 samples, validate on 10000 samples\n",
            "Epoch 1/15\n",
            "60000/60000 [==============================] - 4s 68us/step - loss: 2.4562 - acc: 0.8432 - val_loss: 2.3110 - val_acc: 0.8530\n",
            "Epoch 2/15\n",
            "60000/60000 [==============================] - 4s 65us/step - loss: 2.3095 - acc: 0.8526 - val_loss: 2.1795 - val_acc: 0.8614\n",
            "Epoch 3/15\n",
            "60000/60000 [==============================] - 4s 63us/step - loss: 2.2509 - acc: 0.8568 - val_loss: 2.2336 - val_acc: 0.8580\n",
            "Epoch 4/15\n",
            "60000/60000 [==============================] - 4s 63us/step - loss: 2.2224 - acc: 0.8587 - val_loss: 2.1651 - val_acc: 0.8627\n",
            "Epoch 5/15\n",
            "60000/60000 [==============================] - 4s 65us/step - loss: 2.1755 - acc: 0.8619 - val_loss: 2.1415 - val_acc: 0.8641\n",
            "Epoch 6/15\n",
            "60000/60000 [==============================] - 4s 64us/step - loss: 2.1589 - acc: 0.8629 - val_loss: 2.1447 - val_acc: 0.8640\n",
            "Epoch 7/15\n",
            "60000/60000 [==============================] - 4s 63us/step - loss: 2.1094 - acc: 0.8660 - val_loss: 2.1717 - val_acc: 0.8611\n",
            "Epoch 8/15\n",
            "60000/60000 [==============================] - 4s 63us/step - loss: 2.1065 - acc: 0.8664 - val_loss: 2.1212 - val_acc: 0.8646\n",
            "Epoch 9/15\n",
            "60000/60000 [==============================] - 4s 67us/step - loss: 2.0811 - acc: 0.8681 - val_loss: 2.1147 - val_acc: 0.8658\n",
            "Epoch 10/15\n",
            "60000/60000 [==============================] - 4s 63us/step - loss: 2.0702 - acc: 0.8690 - val_loss: 2.0606 - val_acc: 0.8689\n",
            "Epoch 11/15\n",
            "60000/60000 [==============================] - 4s 69us/step - loss: 2.0535 - acc: 0.8705 - val_loss: 2.0763 - val_acc: 0.8685\n",
            "Epoch 12/15\n",
            "60000/60000 [==============================] - 4s 71us/step - loss: 2.0553 - acc: 0.8702 - val_loss: 2.0449 - val_acc: 0.8706\n",
            "Epoch 13/15\n",
            "60000/60000 [==============================] - 4s 70us/step - loss: 2.0146 - acc: 0.8725 - val_loss: 2.0654 - val_acc: 0.8686\n",
            "Epoch 14/15\n",
            "60000/60000 [==============================] - 4s 70us/step - loss: 2.0082 - acc: 0.8731 - val_loss: 2.0819 - val_acc: 0.8690\n",
            "Epoch 15/15\n",
            "60000/60000 [==============================] - 4s 70us/step - loss: 1.9989 - acc: 0.8736 - val_loss: 2.0015 - val_acc: 0.8730\n"
          ],
          "name": "stdout"
        },
        {
          "output_type": "execute_result",
          "data": {
            "text/plain": [
              "<keras.callbacks.History at 0x7fdfd6fde940>"
            ]
          },
          "metadata": {
            "tags": []
          },
          "execution_count": 39
        }
      ]
    },
    {
      "cell_type": "code",
      "metadata": {
        "id": "zclvBbEn3fuf",
        "colab_type": "code",
        "colab": {
          "base_uri": "https://localhost:8080/",
          "height": 139
        },
        "outputId": "f25f4789-0e6c-4b7f-aee9-eac9829d2467"
      },
      "source": [
        "import os , sys\n",
        "from google.colab import drive\n",
        "drive.mount('/content/drive') #get access to drive\n",
        "\n",
        "os.chdir(\"/content/drive/My Drive/PYP\") # change working directory\n",
        "print(os.getcwd())# read current work direktory\n",
        "model3.save(\"Aufgabe4.hdf5\")"
      ],
      "execution_count": 40,
      "outputs": [
        {
          "output_type": "stream",
          "text": [
            "Go to this URL in a browser: https://accounts.google.com/o/oauth2/auth?client_id=947318989803-6bn6qk8qdgf4n4g3pfee6491hc0brc4i.apps.googleusercontent.com&redirect_uri=urn%3Aietf%3Awg%3Aoauth%3A2.0%3Aoob&scope=email%20https%3A%2F%2Fwww.googleapis.com%2Fauth%2Fdocs.test%20https%3A%2F%2Fwww.googleapis.com%2Fauth%2Fdrive%20https%3A%2F%2Fwww.googleapis.com%2Fauth%2Fdrive.photos.readonly%20https%3A%2F%2Fwww.googleapis.com%2Fauth%2Fpeopleapi.readonly&response_type=code\n",
            "\n",
            "Enter your authorization code:\n",
            "··········\n",
            "Mounted at /content/drive\n",
            "/content/drive/My Drive/PYP\n"
          ],
          "name": "stdout"
        }
      ]
    },
    {
      "cell_type": "code",
      "metadata": {
        "id": "Ev0MJChz4Cy2",
        "colab_type": "code",
        "colab": {
          "base_uri": "https://localhost:8080/",
          "height": 34
        },
        "outputId": "338515f5-51e2-4acc-c175-6d2faef11a29"
      },
      "source": [
        "!ls"
      ],
      "execution_count": 41,
      "outputs": [
        {
          "output_type": "stream",
          "text": [
            "Aufgabe4.hdf5  foo.txt\thi  imgs\n"
          ],
          "name": "stdout"
        }
      ]
    },
    {
      "cell_type": "code",
      "metadata": {
        "id": "pLSxzP7K8D-9",
        "colab_type": "code",
        "colab": {}
      },
      "source": [
        ""
      ],
      "execution_count": 0,
      "outputs": []
    }
  ]
}